{
 "cells": [
  {
   "cell_type": "markdown",
   "metadata": {},
   "source": [
    "The mythical island nation of Laskoatu has a rather simple tax code.  The first \\$1000 of income is taxed at 5%.  The next \\$1000 is taxed at 10%.  Any income beyond the first \\$2000 is taxed at 15%.  Complete the following script so that it asks the user for his or her income and outputs the amount of tax owed."
   ]
  },
  {
   "cell_type": "code",
   "execution_count": 27,
   "metadata": {
    "collapsed": false
   },
   "outputs": [
    {
     "name": "stdout",
     "output_type": "stream",
     "text": [
      "Please enter your income:2500\n"
     ]
    }
   ],
   "source": [
    "income = int(input(\"Please enter your income:\"))"
   ]
  },
  {
   "cell_type": "code",
   "execution_count": 28,
   "metadata": {
    "collapsed": false
   },
   "outputs": [
    {
     "name": "stdout",
     "output_type": "stream",
     "text": [
      "Your income tax is $225.0\n"
     ]
    }
   ],
   "source": [
    "if income > 2000:\n",
    "    tax = (income-2000)*0.15 + 1000*0.1+ 1000*0.05\n",
    "    print('Your income tax is $%s'%tax)\n",
    "elif income >1000:\n",
    "    tax = (income - 1000)*0.1 + 1000*0.05\n",
    "    print('Your income tax is $%s'%tax)\n",
    "elif income >= 0:\n",
    "    tax = income*0.05\n",
    "    print('Your income tax is $%s'%tax)\n",
    "else:\n",
    "    print('Sorry! I cannot calculate your tax.')"
   ]
  },
  {
   "cell_type": "code",
   "execution_count": null,
   "metadata": {
    "collapsed": true
   },
   "outputs": [],
   "source": []
  }
 ],
 "metadata": {
  "kernelspec": {
   "display_name": "Python 3",
   "language": "python",
   "name": "python3"
  },
  "language_info": {
   "codemirror_mode": {
    "name": "ipython",
    "version": 3
   },
   "file_extension": ".py",
   "mimetype": "text/x-python",
   "name": "python",
   "nbconvert_exporter": "python",
   "pygments_lexer": "ipython3",
   "version": "3.6.1"
  }
 },
 "nbformat": 4,
 "nbformat_minor": 0
}

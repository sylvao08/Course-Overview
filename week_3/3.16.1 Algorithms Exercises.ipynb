{
 "cells": [
  {
   "cell_type": "markdown",
   "metadata": {},
   "source": [
    "1. In your own words, why does the bisection search algorthm for finding square roots work faster on large numbers than the brute force algorithm? Write your answer below."
   ]
  },
  {
   "cell_type": "markdown",
   "metadata": {},
   "source": [
    "Student response:\n",
    "Because bisection search eliminate the possibility of many numbers to be the answer in every iteration,hence bisection search only examine a small portion of numbers between 0 and x whereas brute force algorithm has to examine much larger portion of numbers between 0 and x. The larger x it is, the many more iterations of examination is needed for brute force algorithm than bisection search."
   ]
  },
  {
   "cell_type": "markdown",
   "metadata": {},
   "source": [
    "2. In your own words, why does Newton's method for finding square roots outperform both the brute force and the bisection search algorithms? Write your answer below."
   ]
  },
  {
   "cell_type": "markdown",
   "metadata": {},
   "source": [
    "Student response: Compared with bisection search, Newton's method for finding square root approaches the right answer in a increasingly faster speed whereas bisection search approach the right answer in a constant speed. Newton's method is faster than brute force algorithm for the same reason as bisection search is faster than brute force algorithm."
   ]
  },
  {
   "cell_type": "markdown",
   "metadata": {},
   "source": [
    "3. Implement this digit-by-digit algorithm to find the square root of $x$ to a precision of epsilon.\n",
    "  1. Begin with a step of 1 and guess of zero.\n",
    "  2. Increase the guess by step repeatedly as long as doing so would not cause guess$^2$ to exceed $x$.\n",
    "  3. If the step is greater than epsilon, divide the step by 10 and go back to step 2.*In print preview, the three questions are each showing as number 1 (not 1, 2, 3), and these steps are appearing as A, B, C. Please determine how they will appear in final form. \"Step 2\" may need to be changed to \"step C.\"*\n",
    "\n",
    "Notice that once a digit has been found, it is never changed again.  Try using your script to find the square root of 10 to 10 decimal places."
   ]
  },
  {
   "cell_type": "code",
   "execution_count": 14,
   "metadata": {},
   "outputs": [
    {
     "name": "stdout",
     "output_type": "stream",
     "text": [
      "Enter a number:10\n",
      "The current guess is:  0\n",
      "The current guess is:  1\n",
      "The current guess is:  2\n",
      "The current guess is:  3\n",
      "The current guess is:  3.1\n",
      "The current guess is:  3.11\n",
      "The current guess is:  3.1199999999999997\n",
      "The current guess is:  3.1299999999999994\n",
      "The current guess is:  3.1399999999999992\n",
      "The current guess is:  3.149999999999999\n",
      "The current guess is:  3.159999999999999\n",
      "The current guess is:  3.1609999999999987\n",
      "The current guess is:  3.1619999999999986\n",
      "The current guess is:  3.162099999999999\n",
      "The current guess is:  3.162199999999999\n",
      "The current guess is:  3.162209999999999\n",
      "The current guess is:  3.162219999999999\n",
      "The current guess is:  3.162229999999999\n",
      "The current guess is:  3.1622399999999993\n",
      "The current guess is:  3.1622499999999993\n",
      "The current guess is:  3.1622599999999994\n",
      "The current guess is:  3.1622699999999995\n",
      "The current guess is:  3.1622709999999996\n",
      "The current guess is:  3.1622719999999997\n",
      "The current guess is:  3.162273\n",
      "The current guess is:  3.162274\n",
      "The current guess is:  3.162275\n",
      "The current guess is:  3.1622760000000003\n",
      "The current guess is:  3.1622770000000004\n",
      "The current guess is:  3.1622771000000003\n",
      "The current guess is:  3.1622772\n",
      "The current guess is:  3.1622773\n",
      "The current guess is:  3.1622774\n",
      "The current guess is:  3.1622774999999996\n",
      "The current guess is:  3.1622775999999995\n",
      "The current guess is:  3.1622776099999994\n",
      "The current guess is:  3.1622776199999993\n",
      "The current guess is:  3.1622776299999993\n",
      "The current guess is:  3.1622776399999992\n",
      "The current guess is:  3.162277649999999\n",
      "The current guess is:  3.162277659999999\n",
      "number of guesses = 42\n",
      "3.162277660099999 is close to square root of 10.0\n"
     ]
    }
   ],
   "source": [
    "x = float(input('Enter a number:'))\n",
    "ans = 0\n",
    "epsilon = 0.0000000001\n",
    "step = 1\n",
    "num_guesses = 1\n",
    "while step > epsilon:\n",
    "    while ( ans + step)**2 < x:\n",
    "        print('The current guess is: ', ans)\n",
    "        ans += step\n",
    "        num_guesses += 1\n",
    "    step = step/10\n",
    "print('number of guesses =', num_guesses)\n",
    "print(ans, 'is close to square root of', x)"
   ]
  },
  {
   "cell_type": "code",
   "execution_count": null,
   "metadata": {
    "collapsed": true
   },
   "outputs": [],
   "source": []
  }
 ],
 "metadata": {
  "kernelspec": {
   "display_name": "Python 3",
   "language": "python",
   "name": "python3"
  },
  "language_info": {
   "codemirror_mode": {
    "name": "ipython",
    "version": 3
   },
   "file_extension": ".py",
   "mimetype": "text/x-python",
   "name": "python",
   "nbconvert_exporter": "python",
   "pygments_lexer": "ipython3",
   "version": "3.6.3"
  }
 },
 "nbformat": 4,
 "nbformat_minor": 1
}

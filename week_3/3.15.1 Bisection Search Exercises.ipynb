{
 "cells": [
  {
   "cell_type": "markdown",
   "metadata": {},
   "source": [
    "1. Try inputting 0.25 into the bisection search algorithm below and confirm that it doesn't work.  Then correct the algorithm so that it works for all positive numbers."
   ]
  },
  {
   "cell_type": "code",
   "execution_count": 1,
   "metadata": {
    "collapsed": false
   },
   "outputs": [
    {
     "name": "stdout",
     "output_type": "stream",
     "text": [
      "enter a number:0.25\n",
      "low = 0.0 high = 0.25\n",
      "low = 0.125 high = 0.25\n",
      "low = 0.1875 high = 0.25\n",
      "low = 0.21875 high = 0.25\n",
      "low = 0.234375 high = 0.25\n",
      "low = 0.2421875 high = 0.25\n",
      "low = 0.24609375 high = 0.25\n",
      "low = 0.248046875 high = 0.25\n",
      "low = 0.2490234375 high = 0.25\n",
      "low = 0.24951171875 high = 0.25\n",
      "low = 0.249755859375 high = 0.25\n",
      "low = 0.2498779296875 high = 0.25\n",
      "low = 0.24993896484375 high = 0.25\n",
      "low = 0.249969482421875 high = 0.25\n",
      "number of guesses = 14\n",
      "0.24999237060546875 is close to square root of 0.25\n"
     ]
    }
   ],
   "source": [
    "## Bisection Search to Find a Square Root\n",
    "\n",
    "x = float(input(\"enter a number:\"))\n",
    "epsilon = 0.00001\n",
    "num_guesses = 0\n",
    "low = 0.0\n",
    "high = x\n",
    "ans = (high + low)/2.0\n",
    "while high-low >= 2 * epsilon:\n",
    "    print(\"low =\",low,\"high =\", high)\n",
    "    num_guesses += 1\n",
    "    if ans**2 < x:\n",
    "        low = ans\n",
    "    else:\n",
    "        high = ans\n",
    "    ans = (high + low)/2.0\n",
    "print('number of guesses =', num_guesses)\n",
    "print(ans, 'is close to square root of', x)"
   ]
  },
  {
   "cell_type": "markdown",
   "metadata": {},
   "source": [
    " 2. You run the bisection search algorithm to find the square root of x to a precision of epsilon.  Write down a formula for how many loop iterations it takes for the algorithm to complete.  Hint: first suppose that x has the special value $epsilon * 2^n$, where n is an integer."
   ]
  }
 ],
 "metadata": {
  "kernelspec": {
   "display_name": "Python 3",
   "language": "python",
   "name": "python3"
  },
  "language_info": {
   "codemirror_mode": {
    "name": "ipython",
    "version": 3
   },
   "file_extension": ".py",
   "mimetype": "text/x-python",
   "name": "python",
   "nbconvert_exporter": "python",
   "pygments_lexer": "ipython3",
   "version": "3.6.1"
  }
 },
 "nbformat": 4,
 "nbformat_minor": 0
}

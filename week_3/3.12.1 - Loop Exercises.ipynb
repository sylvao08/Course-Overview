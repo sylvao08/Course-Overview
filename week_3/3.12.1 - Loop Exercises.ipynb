{
 "cells": [
  {
   "cell_type": "markdown",
   "metadata": {},
   "source": [
    "1. Write a script that prompts the user for his or her name. Using a loop that counts downward, print the name with the letters reversed. You may use `s.lower()` and `s.upper()` to change a string `s` to lowercase and uppercase letters.\n",
    "```\n",
    "Enter your name: Paul \n",
    "Luap\n",
    "```\n",
    "If the name is the same forward and backwards, print \"Palindrome!\" on the next line.\n",
    "```\n",
    "Enter your name: Ana \n",
    "Ana \n",
    "Palindrome!\n",
    "```"
   ]
  },
  {
   "cell_type": "code",
   "execution_count": 10,
   "metadata": {
    "collapsed": false
   },
   "outputs": [
    {
     "name": "stdout",
     "output_type": "stream",
     "text": [
      "Enter your name: Chc\n",
      "Chc\n",
      "Palindrome!\n"
     ]
    }
   ],
   "source": [
    "name = input(\"Enter your name: \")\n",
    "result = ''\n",
    "for x in name[::-1]:\n",
    "    if len(result) == 0:\n",
    "        result += x.upper()\n",
    "    else:\n",
    "        result += x.lower()\n",
    "\n",
    "print(result)\n",
    "if result == name:\n",
    "    print('Palindrome!')"
   ]
  },
  {
   "cell_type": "markdown",
   "metadata": {},
   "source": [
    "2. Write a script that prompts the user for an integer tree size, then displays a number tree as shown below:\n",
    "\n",
    "Enter a size: 5 \n",
    "```\n",
    "    1\n",
    "   121\n",
    "  12321\n",
    " 1234321 \n",
    "123454321\n",
    "```"
   ]
  },
  {
   "cell_type": "code",
   "execution_count": 48,
   "metadata": {
    "collapsed": false
   },
   "outputs": [
    {
     "name": "stdout",
     "output_type": "stream",
     "text": [
      "Enter a size: 9\n",
      "        1        \n",
      "       121       \n",
      "      12321      \n",
      "     1234321     \n",
      "    123454321    \n",
      "   12345654321   \n",
      "  1234567654321  \n",
      " 123456787654321 \n",
      "12345678987654321\n"
     ]
    }
   ],
   "source": [
    "n = int(input(\"Enter a size: \"))\n",
    "line = []\n",
    "for i in range(1,n+1):\n",
    "    line.clear()\n",
    "    middle = n-1\n",
    "    offset = 0\n",
    "    for j in range(2*n-1):\n",
    "        line.append(' ')\n",
    "    for k in range(i,0,-1):\n",
    "        line[middle-offset]= str(k)\n",
    "        line[middle+offset]= str(k)\n",
    "        offset += 1\n",
    "    print(''.join(line))"
   ]
  },
  {
   "cell_type": "markdown",
   "metadata": {},
   "source": [
    "3. The Fibonacci numbers begin with 1, 1.  After the first two numbers, each number is the sum of the previous two. 1 + 1 = 2, so 2 is the third number. Then 1 + 2 = 3, so 3 is the next one, and so on. Write a script that prompts the user for a number, then prints all the Fibonacci numbers that are less than or equal to the input, in order.\n",
    "\n",
    "```\n",
    "Enter a number: 15\n",
    "1 1 2 3 5 8 13\n",
    "```"
   ]
  },
  {
   "cell_type": "code",
   "execution_count": 55,
   "metadata": {
    "collapsed": false
   },
   "outputs": [
    {
     "name": "stdout",
     "output_type": "stream",
     "text": [
      "Enter a number: 25\n",
      "1 1 2 3 5 8 13 21 "
     ]
    }
   ],
   "source": [
    "# Method No.1\n",
    "n = int(input(\"Enter a number: \"))\n",
    "num1,num2 = 1,1\n",
    "print(num1,num2, end=' ')\n",
    "while num1 + num2 <= n:\n",
    "    print(num1+num2, end=' ')\n",
    "    if num1 <= num2:\n",
    "        num1 = num1 + num2\n",
    "    else:\n",
    "        num2 = num1 + num2\n",
    "    "
   ]
  },
  {
   "cell_type": "code",
   "execution_count": 57,
   "metadata": {
    "collapsed": false
   },
   "outputs": [
    {
     "name": "stdout",
     "output_type": "stream",
     "text": [
      "Enter a number: 25\n",
      "1 1 2 3 5 8 13 21 "
     ]
    }
   ],
   "source": [
    "# Method No.2\n",
    "n = int(input(\"Enter a number: \"))\n",
    "num1,num2 = 1,1\n",
    "print(num1,num2,end=' ')\n",
    "num3 = num1 + num2\n",
    "while num3 <= n:\n",
    "    print(num3, end=' ')\n",
    "    num1 = num2\n",
    "    num2 = num3\n",
    "    num3 = num1 + num2"
   ]
  },
  {
   "cell_type": "markdown",
   "metadata": {},
   "source": [
    "Pascal's triangle is a triangle of numbers that is computed as follows.  The first row contains a 1.  Each row after that begins and ends with a 1, and every other number is the sum of the two numbers above it.  The first six rows of Pascal's triangle are shown below.\n",
    "```\n",
    "      1\n",
    "     1 1\n",
    "    1 2 1\n",
    "  1  3 3  1\n",
    " 1 4  6  4 1\n",
    "1 5 10 10 5 1\n",
    "```\n",
    "Write a script to compute the *n*th row of Pascal's triangle."
   ]
  },
  {
   "cell_type": "code",
   "execution_count": 84,
   "metadata": {
    "collapsed": false
   },
   "outputs": [
    {
     "name": "stdout",
     "output_type": "stream",
     "text": [
      "Enter a number: 6\n",
      "     1 \n",
      "    1 1 \n",
      "   1 2 1 \n",
      "  1 3 3 1 \n",
      " 1 4 6 4 1 \n",
      "1 5 10 10 5 1 \n"
     ]
    }
   ],
   "source": [
    "n = int(input(\"Enter a number: \"))\n",
    "line_lst1 = []\n",
    "line_lst2 = []\n",
    "for line in range(n):\n",
    "    if line > 1:\n",
    "        for i in range(1,line):\n",
    "            line_lst2[i] = line_lst1[i-1]+line_lst1[i]\n",
    "    line_lst2.append(1)\n",
    "    #print the triangle in a symetric format\n",
    "    for j in range(n-line-1):\n",
    "        print(' ', end='')\n",
    "    for i in range(len(line_lst2)):\n",
    "        print(line_lst2[i],end=' ')\n",
    "    print('')\n",
    "    line_lst1 = line_lst2.copy()"
   ]
  },
  {
   "cell_type": "code",
   "execution_count": null,
   "metadata": {
    "collapsed": true
   },
   "outputs": [],
   "source": []
  }
 ],
 "metadata": {
  "kernelspec": {
   "display_name": "Python 3",
   "language": "python",
   "name": "python3"
  },
  "language_info": {
   "codemirror_mode": {
    "name": "ipython",
    "version": 3
   },
   "file_extension": ".py",
   "mimetype": "text/x-python",
   "name": "python",
   "nbconvert_exporter": "python",
   "pygments_lexer": "ipython3",
   "version": "3.6.1"
  }
 },
 "nbformat": 4,
 "nbformat_minor": 0
}
